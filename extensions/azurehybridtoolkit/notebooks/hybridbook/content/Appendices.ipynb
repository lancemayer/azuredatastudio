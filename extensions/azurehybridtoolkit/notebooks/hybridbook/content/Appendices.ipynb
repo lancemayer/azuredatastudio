{
    "metadata": {
        "kernelspec": {
            "name": "powershell",
            "display_name": "PowerShell",
            "language": "powershell"
        },
        "language_info": {
            "name": "powershell",
            "codemirror_mode": "shell",
            "mimetype": "text/x-sh",
            "file_extension": ".ps1"
        }
    },
    "nbformat_minor": 2,
    "nbformat": 4,
    "cells": [
        {
            "cell_type": "markdown",
            "source": [
                "# Appendices"
            ],
            "metadata": {
                "azdata_cell_guid": "7894d5e9-9d20-462a-942d-5819c9eef811"
            }
        },
        {
            "cell_type": "markdown",
            "source": [
                "## Appendix: Locations\r\n",
                "See the <a href=\"https://azure.microsoft.com/en-us/global-infrastructure/locations/\">Azure locations</a> page for a complete list of Azure regions along with their general physical location. The following is a list of common North American location settings for this guide:\r\n",
                "\r\n",
                "### Regions\r\n",
                "| Setting | Location\r\n",
                "| ------------ | ---------\r\n",
                "| Central US | Iowa\r\n",
                "| East US | Virginia\r\n",
                "| East US 2 | Virginia\r\n",
                "| North Central US | Illinois\r\n",
                "| South Central US | Texas\r\n",
                "| West US 2 | Washington\r\n",
                "| West Central US | Wyoming\r\n",
                "| West US | California\r\n",
                "| Canada Central | Toronto\r\n",
                "| Canada East | Quebec City\r\n",
                "| Brazil South | Sao Paulo\r\n",
                "| Mexico Central | Queretaro"
            ],
            "metadata": {
                "azdata_cell_guid": "31b9ebca-6102-438b-8a1c-d14c2598abc5"
            }
        },
        {
            "cell_type": "markdown",
            "source": [
                "## Appendix: Storage SKUs\r\n",
                "Use these as values for provisioning storage skus. \r\n",
                "\r\n",
                "Data for table taken from <a href=\"https://docs.microsoft.com/en-us/rest/api/storagerp/srp_sku_types\">SKU Types</a> page but is subject to change. Not all skus are listed here. SKU type names are case-sensitive.\r\n",
                "\r\n",
                "| Name | Description |\r\n",
                "| -----| ----------- |\r\n",
                "| Standard_LRS | standard locally redundant storage |\r\n",
                "| Standard_GRS | standard geo-replicated storage |\r\n",
                "| Standard_RAGRS | standard read-access geo replicated storage |\r\n",
                "| Standard_ZRS | standard zone redundant storage |\r\n",
                "| Premium_LRS | Premium - provisioned IO locally redundant |\r\n",
                "| Premium_ZRS | Premium - provisioned IO locally redundant |\r\n",
                ""
            ],
            "metadata": {
                "azdata_cell_guid": "a5272577-2f81-4cea-8dc2-8aaa7bbb6603"
            }
        },
        {
            "cell_type": "markdown",
            "source": [
                "## Appendix: Azure SQL VM Offers\n",
                "\n",
                "Run the following command using PowerShell to get updated list of offers for Microsoft SQL Server in a location. These settings can be used for the OfferName associated with this migration. \n",
                "\n",
                "Note that the SQL Version is first then appended with an operating system version. E.g.: \"WS2019\" means Windows Server 2019. Along with various versions of Windows Servers, there are also enterprise Linux versions such as RedHat Enterprise, Suse Enterprise, and Ubuntu. Some versions are BYOL (Bring Your Own License) aka [Hybrid Benefit](https://azure.microsoft.com/en-us/pricing/hybrid-benefit/)."
            ],
            "metadata": {
                "azdata_cell_guid": "3a67fc67-c1d3-4dcc-b2a0-5f893d175000"
            }
        },
        {
            "cell_type": "code",
            "source": [
                "$Location           = \"\"  # Name of location to discover offering \r\n",
                "$PublisherName      = \"\" # Name of Publisher, Default would be 'MicrosoftSQLServer'\r\n",
                "\r\n",
                "Connect-AzAccount   # Opens a dialog in another window\r\n",
                "Get-AzVMImageOffer -Location $Location -Publisher $PublisherName | Select Offer"
            ],
            "metadata": {
                "azdata_cell_guid": "7eb125fd-dce9-4421-89c8-8c4830e3bfe7"
            },
            "outputs": [],
            "execution_count": null
        }
    ]
}